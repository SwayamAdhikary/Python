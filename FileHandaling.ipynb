{
  "nbformat": 4,
  "nbformat_minor": 0,
  "metadata": {
    "colab": {
      "name": "FileHandaling.ipynb",
      "provenance": [],
      "authorship_tag": "ABX9TyMqzdNC7YuPndko2MJ7GcMC",
      "include_colab_link": true
    },
    "kernelspec": {
      "name": "python3",
      "display_name": "Python 3"
    },
    "language_info": {
      "name": "python"
    }
  },
  "cells": [
    {
      "cell_type": "markdown",
      "metadata": {
        "id": "view-in-github",
        "colab_type": "text"
      },
      "source": [
        "<a href=\"https://colab.research.google.com/github/SwayamAdhikary/Python/blob/Module-4/FileHandaling.ipynb\" target=\"_parent\"><img src=\"https://colab.research.google.com/assets/colab-badge.svg\" alt=\"Open In Colab\"/></a>"
      ]
    },
    {
      "cell_type": "code",
      "execution_count": null,
      "metadata": {
        "id": "be0sPxqU3MZx",
        "colab": {
          "base_uri": "https://localhost:8080/"
        },
        "outputId": "5c7a603c-f0b9-466e-a41b-bbc3edd719a1"
      },
      "outputs": [
        {
          "output_type": "stream",
          "name": "stdout",
          "text": [
            "Enter text to be inputted=Hello\n",
            "Hello\n",
            "n very good\n",
            "weather good or bad no matter\n"
          ]
        }
      ],
      "source": [
        "#Assignment\n",
        "f=open(r'story.txt','r+')\n",
        "da=input(\"Enter text to be inputted=\")\n",
        "f.write(da)\n",
        "print(da)\n",
        "at=f.read()\n",
        "print(at)"
      ]
    },
    {
      "cell_type": "code",
      "source": [
        "from google.colab import drive\n",
        "drive.mount('/drive')\n",
        "\n"
      ],
      "metadata": {
        "colab": {
          "base_uri": "https://localhost:8080/"
        },
        "id": "vW2GNGNZsA9Z",
        "outputId": "aac540f1-155d-40ff-95dc-d3cfbfe6aab0"
      },
      "execution_count": null,
      "outputs": [
        {
          "output_type": "stream",
          "name": "stdout",
          "text": [
            "Mounted at /drive\n"
          ]
        }
      ]
    },
    {
      "cell_type": "code",
      "source": [
        ""
      ],
      "metadata": {
        "id": "-DlcudeoJgzA"
      },
      "execution_count": null,
      "outputs": []
    },
    {
      "cell_type": "code",
      "source": [
        "f=open(r'/drive/My Drive/Colab Notebooks/story.txt','r+')\n",
        "r=f.read()\n",
        "print(r)"
      ],
      "metadata": {
        "colab": {
          "base_uri": "https://localhost:8080/"
        },
        "id": "Cnv1mMNqsZel",
        "outputId": "b3e2c84d-5cdb-4704-c568-8640c60dc037"
      },
      "execution_count": null,
      "outputs": [
        {
          "output_type": "stream",
          "name": "stdout",
          "text": [
            "Niceon very good\n",
            "weather good or bad no matter\n"
          ]
        }
      ]
    },
    {
      "cell_type": "code",
      "source": [
        ""
      ],
      "metadata": {
        "colab": {
          "base_uri": "https://localhost:8080/"
        },
        "id": "9Vx4S6m8vbSm",
        "outputId": "5e179ccd-b1db-4205-bcc7-b1b7c66d9972"
      },
      "execution_count": null,
      "outputs": [
        {
          "output_type": "stream",
          "name": "stdout",
          "text": [
            "  John Cena\\t18\n",
            "0      Kala\\t20\n",
            "1      Mota\\t16\n",
            "2    Uncle\\t350\n",
            "3     Pappu\\t25\n"
          ]
        },
        {
          "output_type": "stream",
          "name": "stderr",
          "text": [
            "/usr/local/lib/python3.7/dist-packages/IPython/core/interactiveshell.py:2882: FutureWarning: In a future version of pandas all arguments of read_csv except for the argument 'filepath_or_buffer' will be keyword-only\n",
            "  exec(code_obj, self.user_global_ns, self.user_ns)\n",
            "/usr/local/lib/python3.7/dist-packages/pandas/util/_decorators.py:311: ParserWarning: Falling back to the 'python' engine because the 'c' engine does not support regex separators (separators > 1 char and different from '\\s+' are interpreted as regex); you can avoid this warning by specifying engine='python'.\n",
            "  return func(*args, **kwargs)\n"
          ]
        }
      ]
    },
    {
      "cell_type": "code",
      "source": [
        "import pandas as pd\n",
        "f=pd.read_csv(r'/drive/My Drive/Colab Notebooks/employees.csv')\n",
        "avg=f.groupby(['DEPARTMENT_ID'])['SALARY'].mean()\n",
        "print(avg)"
      ],
      "metadata": {
        "colab": {
          "base_uri": "https://localhost:8080/"
        },
        "id": "fy0qEzkM0nCc",
        "outputId": "a91940d9-9202-422b-e14c-83831fa933c0"
      },
      "execution_count": null,
      "outputs": [
        {
          "output_type": "stream",
          "name": "stdout",
          "text": [
            "DEPARTMENT_ID\n",
            "10      4400.000000\n",
            "20      9500.000000\n",
            "30      4150.000000\n",
            "40      6500.000000\n",
            "50      3721.739130\n",
            "60      5760.000000\n",
            "70     10000.000000\n",
            "90     19333.333333\n",
            "100     8601.333333\n",
            "110    10154.000000\n",
            "Name: SALARY, dtype: float64\n"
          ]
        }
      ]
    },
    {
      "cell_type": "code",
      "source": [
        "import pandas as pd\n",
        "f=pd.read_csv(r'/drive/My Drive/Colab Notebooks/employees.csv',encoding='unicode_escape')\n",
        "fd=f.loc[:20,[\"FIRST_NAME\",\"SALARY\"]]\n",
        "print(fd)\n"
      ],
      "metadata": {
        "colab": {
          "base_uri": "https://localhost:8080/"
        },
        "id": "RuAq6yzY2u_1",
        "outputId": "c8528656-a208-4fd5-9000-5e21dce0595e"
      },
      "execution_count": null,
      "outputs": [
        {
          "output_type": "stream",
          "name": "stdout",
          "text": [
            "   FIRST_NAME  SALARY\n",
            "0      Donald    2600\n",
            "1     Douglas    2600\n",
            "2    Jennifer    4400\n",
            "3     Michael   13000\n",
            "4         Pat    6000\n",
            "5       Susan    6500\n",
            "6     Hermann   10000\n",
            "7     Shelley   12008\n",
            "8     William    8300\n",
            "9      Steven   24000\n",
            "10      Neena   17000\n",
            "11        Lex   17000\n",
            "12  Alexander    9000\n",
            "13      Bruce    6000\n",
            "14      David    4800\n",
            "15      Valli    4800\n",
            "16      Diana    4200\n",
            "17      Nancy   12008\n",
            "18     Daniel    9000\n",
            "19       John    8200\n",
            "20     Ismael    7700\n"
          ]
        }
      ]
    },
    {
      "cell_type": "code",
      "source": [
        "f1=open()"
      ],
      "metadata": {
        "id": "QyHYEPzbJiOv"
      },
      "execution_count": null,
      "outputs": []
    }
  ]
}