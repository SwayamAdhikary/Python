{
  "nbformat": 4,
  "nbformat_minor": 0,
  "metadata": {
    "colab": {
      "name": "Regex.ipynb",
      "provenance": [],
      "collapsed_sections": [],
      "authorship_tag": "ABX9TyPCc3SsTj1eWKX/Dv/DTBZm",
      "include_colab_link": true
    },
    "kernelspec": {
      "name": "python3",
      "display_name": "Python 3"
    },
    "language_info": {
      "name": "python"
    }
  },
  "cells": [
    {
      "cell_type": "markdown",
      "metadata": {
        "id": "view-in-github",
        "colab_type": "text"
      },
      "source": [
        "<a href=\"https://colab.research.google.com/github/SwayamAdhikary/Python/blob/main/Regex.ipynb\" target=\"_parent\"><img src=\"https://colab.research.google.com/assets/colab-badge.svg\" alt=\"Open In Colab\"/></a>"
      ]
    },
    {
      "cell_type": "code",
      "execution_count": null,
      "metadata": {
        "colab": {
          "base_uri": "https://localhost:8080/"
        },
        "id": "60pIBQWVJJ15",
        "outputId": "3d5d31fe-332c-4653-d5e6-5517841a052a"
      },
      "outputs": [
        {
          "output_type": "stream",
          "name": "stdout",
          "text": [
            "Dra\n",
            "INcorrect\n"
          ]
        }
      ],
      "source": [
        "import re\n",
        "s=input()\n",
        "x=re.findall(\"[a-z][A-Z]\",s)\n",
        "y=re.findall(\"[0-9]\",s)\n",
        "if x or y:\n",
        "  print(\"correct\")\n",
        "else:\n",
        "  print(\"Incorrect\")"
      ]
    },
    {
      "cell_type": "code",
      "source": [
        ""
      ],
      "metadata": {
        "id": "uRE245nau7Zl"
      },
      "execution_count": null,
      "outputs": []
    },
    {
      "cell_type": "code",
      "source": [
        "import re\n",
        "s=input()\n",
        "x=re.search(\"a*b\",s)\n",
        "if x:\n",
        "  print(\"Matched\")\n",
        "else:\n",
        "  print(\"Not Matched\")"
      ],
      "metadata": {
        "colab": {
          "base_uri": "https://localhost:8080/"
        },
        "id": "Zkyv6cGnKCqI",
        "outputId": "d261564b-2c29-476e-8a88-6f33d72f69b2"
      },
      "execution_count": null,
      "outputs": [
        {
          "output_type": "stream",
          "name": "stdout",
          "text": [
            "abra\n",
            "Matched\n"
          ]
        }
      ]
    },
    {
      "cell_type": "code",
      "source": [
        "import re\n",
        "s=input()\n",
        "x=re.search(\"a+b\",s)\n",
        "if x:\n",
        "  print(\"Matched\")\n",
        "else:\n",
        "  print(\"Not Matched\")"
      ],
      "metadata": {
        "colab": {
          "base_uri": "https://localhost:8080/"
        },
        "id": "UpaK8ErsNYrs",
        "outputId": "4644c032-aa6a-44ac-8d30-b350f66efdc5"
      },
      "execution_count": null,
      "outputs": [
        {
          "output_type": "stream",
          "name": "stdout",
          "text": [
            "akram\n",
            "Not Matched\n"
          ]
        }
      ]
    },
    {
      "cell_type": "code",
      "source": [
        "import re\n",
        "s=input()\n",
        "x=re.search(\"a?b\",s)\n",
        "if x:\n",
        "  print(\"Matched\")\n",
        "else:\n",
        "  print(\"Not Matched\")"
      ],
      "metadata": {
        "colab": {
          "base_uri": "https://localhost:8080/"
        },
        "id": "N_9ihkwDPbWc",
        "outputId": "6ccb6752-23c8-4c1a-f1c0-134180293ea4"
      },
      "execution_count": null,
      "outputs": [
        {
          "output_type": "stream",
          "name": "stdout",
          "text": [
            "abbr\n",
            "Matched\n"
          ]
        }
      ]
    },
    {
      "cell_type": "code",
      "source": [
        "import re\n",
        "s=input()\n",
        "x=re.search(\"a{3}b\",s)\n",
        "if x:\n",
        "  print(\"Matched\")\n",
        "else:\n",
        "  print(\"Not Matched\")"
      ],
      "metadata": {
        "colab": {
          "base_uri": "https://localhost:8080/"
        },
        "id": "7TFDlxB7QE4F",
        "outputId": "51629dab-c2a4-4481-84bc-772b30fc9522"
      },
      "execution_count": null,
      "outputs": [
        {
          "output_type": "stream",
          "name": "stdout",
          "text": [
            "abra\n",
            "Not Matched\n"
          ]
        }
      ]
    },
    {
      "cell_type": "code",
      "source": [
        "import re\n",
        "s=input()\n",
        "x=re.search(\"a?b\",s)\n",
        "if x:\n",
        "  print(\"Matched\")\n",
        "else:\n",
        "  print(\"Not Matched\")"
      ],
      "metadata": {
        "id": "3tVapPGhQX3F"
      },
      "execution_count": null,
      "outputs": []
    },
    {
      "cell_type": "code",
      "source": [
        "import re\n",
        "def tm(t):\n",
        "        p = '^[a-z]+_[a-z]+$'\n",
        "        if re.search(p,  t):\n",
        "                return 'Found a match!'\n",
        "        else:\n",
        "                return('Not matched!')\n",
        "print(tm(\"akram_abra\"))\n",
        "print(tm(\"abra_Abba\"))\n",
        "print(tm(\"Akram_bakram\"))"
      ],
      "metadata": {
        "colab": {
          "base_uri": "https://localhost:8080/"
        },
        "id": "sJFqMjQo3VfO",
        "outputId": "35474fd5-5f02-4d38-ea50-202c38d980fd"
      },
      "execution_count": null,
      "outputs": [
        {
          "output_type": "stream",
          "name": "stdout",
          "text": [
            "Found a match!\n",
            "Not matched!\n",
            "Not matched!\n"
          ]
        }
      ]
    },
    {
      "cell_type": "code",
      "source": [
        "import re\n",
        "s=input()\n",
        "x=re.findall('m$',s)\n",
        "if x:\n",
        "  print(\"Found\")\n",
        "else:\n",
        "  print(\"Not Found\")"
      ],
      "metadata": {
        "colab": {
          "base_uri": "https://localhost:8080/"
        },
        "id": "n-_xaNrCu9OX",
        "outputId": "49b4287b-eaae-4f40-af67-22771fb730b6"
      },
      "execution_count": 3,
      "outputs": [
        {
          "output_type": "stream",
          "name": "stdout",
          "text": [
            "swayam\n",
            "Found\n"
          ]
        }
      ]
    },
    {
      "cell_type": "code",
      "source": [
        "import re\n",
        "\n",
        "txt = \"hello planet\"\n",
        "\n",
        "#Search for a sequence that starts with \"he\", followed by 0 or more  (any) characters, and an \"o\":\n",
        "\n",
        "x = re.findall(\".l?\", txt)\n",
        "\n",
        "print(x)\n"
      ],
      "metadata": {
        "colab": {
          "base_uri": "https://localhost:8080/"
        },
        "id": "l-a5GBAIvfY-",
        "outputId": "45eca706-c550-47ad-f5f7-cef532b8f5b7"
      },
      "execution_count": 9,
      "outputs": [
        {
          "output_type": "stream",
          "name": "stdout",
          "text": [
            "['h', 'el', 'l', 'o', ' ', 'pl', 'a', 'n', 'e', 't']\n"
          ]
        }
      ]
    },
    {
      "cell_type": "code",
      "source": [
        "import re\n",
        "txt = \"hello pllanet\"\n",
        "#Search for a sequence that starts with \"he\", followed by 0 or more  (any) characters, and an \"o\":\n",
        "x = re.findall(\".l{2}\", txt)\n",
        "print(x)\n"
      ],
      "metadata": {
        "colab": {
          "base_uri": "https://localhost:8080/"
        },
        "id": "0hVWke0610Tx",
        "outputId": "c8f45680-8617-4288-a212-15dd810c55ae"
      },
      "execution_count": 11,
      "outputs": [
        {
          "output_type": "stream",
          "name": "stdout",
          "text": [
            "['ell', 'pll']\n"
          ]
        }
      ]
    },
    {
      "cell_type": "code",
      "source": [
        "import re\n",
        "\n",
        "txt = \"The quick brown fox jumps over the lazy dog\"\n",
        "\n",
        "#Check if the string contains either \"falls\" or \"stays\":\n",
        "\n",
        "x = re.findall(\"quick|fast\", txt)\n",
        "\n",
        "print(x)"
      ],
      "metadata": {
        "colab": {
          "base_uri": "https://localhost:8080/"
        },
        "id": "UgjPeMOF2z0s",
        "outputId": "f4f122ab-fb91-48ab-ed38-1a879d18979d"
      },
      "execution_count": 12,
      "outputs": [
        {
          "output_type": "stream",
          "name": "stdout",
          "text": [
            "['quick']\n"
          ]
        }
      ]
    },
    {
      "cell_type": "code",
      "source": [
        "import re\n",
        "\n",
        "txt = \"The quick brown fox jumps over the lazy dog\"\n",
        "\n",
        "#Check if the string starts with \"The\":\n",
        "\n",
        "x = re.findall(\"\\AThe\", txt)\n",
        "\n",
        "print(x)\n",
        "if x:\n",
        "  print(\"Found\")\n",
        "else:\n",
        "  print(\"Not Found\")"
      ],
      "metadata": {
        "colab": {
          "base_uri": "https://localhost:8080/"
        },
        "id": "F_1eI8vb3idG",
        "outputId": "ec62966e-4dc1-4340-c091-9bb36f0d8fdb"
      },
      "execution_count": 13,
      "outputs": [
        {
          "output_type": "stream",
          "name": "stdout",
          "text": [
            "['The']\n",
            "Found\n"
          ]
        }
      ]
    },
    {
      "cell_type": "code",
      "source": [
        "import re\n",
        "txt = \"The quick brown fox jumps over the lazy dog\"\n",
        "#Returns a match where the specified characters at the end of a word\n",
        "x = re.findall(r\"\\bq\", txt)\n",
        "print(x)"
      ],
      "metadata": {
        "colab": {
          "base_uri": "https://localhost:8080/"
        },
        "id": "df1lYUeg3-Zj",
        "outputId": "66a7f1c1-3b44-4c97-92da-fcd7a3e7a4a3"
      },
      "execution_count": 19,
      "outputs": [
        {
          "output_type": "stream",
          "name": "stdout",
          "text": [
            "[]\n"
          ]
        }
      ]
    },
    {
      "cell_type": "code",
      "source": [
        "import re\n",
        "txt = \"The quick brown fox jumps over the drown lazy dog\"\n",
        "#Returns a match where the specified characters are at the beginning\n",
        "x = re.findall(r\"..own\\b\", txt)\n",
        "print(x)"
      ],
      "metadata": {
        "colab": {
          "base_uri": "https://localhost:8080/"
        },
        "id": "LlZ22gS541OY",
        "outputId": "4171bbf5-02ab-4603-c6b4-89c5274dc65b"
      },
      "execution_count": 21,
      "outputs": [
        {
          "output_type": "stream",
          "name": "stdout",
          "text": [
            "['brown', 'drown']\n"
          ]
        }
      ]
    },
    {
      "cell_type": "code",
      "source": [
        "import re\n",
        "txt=\"Lambo truck wich brown gedi wich drown\"\n",
        "#Returns a match where the specified characters are present, but NOT at the beginning (or at the end) of a word\n",
        "x=re.findall(r\"\\Bow\",txt)\n",
        "print(x)"
      ],
      "metadata": {
        "colab": {
          "base_uri": "https://localhost:8080/"
        },
        "id": "HNWYH00H5nDn",
        "outputId": "558ce903-7422-401f-f342-7905730d0a26"
      },
      "execution_count": 23,
      "outputs": [
        {
          "output_type": "stream",
          "name": "stdout",
          "text": [
            "['ow', 'ow']\n"
          ]
        }
      ]
    },
    {
      "cell_type": "code",
      "source": [
        "import re \n",
        "txt=\"Overpowered nice energetic oversynchronised shot 16\"\n",
        "#check if string contains digits\n",
        "x=re.findall(\"\\d\",txt)\n",
        "print(x)"
      ],
      "metadata": {
        "colab": {
          "base_uri": "https://localhost:8080/"
        },
        "id": "LvtjTZDn6ddw",
        "outputId": "18bf363e-40d6-487d-c413-5d7de65ec2b1"
      },
      "execution_count": 25,
      "outputs": [
        {
          "output_type": "stream",
          "name": "stdout",
          "text": [
            "['1', '6']\n"
          ]
        }
      ]
    },
    {
      "cell_type": "code",
      "source": [
        "#Returns a match where the string DOES NOT contain digits\n",
        "txt=\"Overpowered nice energetic oversynchronised shot 16\"\n",
        "x=re.findall(\"\\D\",txt)\n",
        "print(x)"
      ],
      "metadata": {
        "colab": {
          "base_uri": "https://localhost:8080/"
        },
        "id": "TgTSmgmm693U",
        "outputId": "0581804b-25b6-4588-b8e4-b5ec9a3bd84d"
      },
      "execution_count": 26,
      "outputs": [
        {
          "output_type": "stream",
          "name": "stdout",
          "text": [
            "['O', 'v', 'e', 'r', 'p', 'o', 'w', 'e', 'r', 'e', 'd', ' ', 'n', 'i', 'c', 'e', ' ', 'e', 'n', 'e', 'r', 'g', 'e', 't', 'i', 'c', ' ', 'o', 'v', 'e', 'r', 's', 'y', 'n', 'c', 'h', 'r', 'o', 'n', 'i', 's', 'e', 'd', ' ', 's', 'h', 'o', 't', ' ']\n"
          ]
        }
      ]
    },
    {
      "cell_type": "code",
      "source": [
        "#returns match of spaces\n",
        "txt=\"Overpowered nice energetic oversynchronised shot 16\"\n",
        "x=re.findall(\"\\s\",txt)\n",
        "print(x)\n"
      ],
      "metadata": {
        "colab": {
          "base_uri": "https://localhost:8080/"
        },
        "id": "BLQ7ILed7KNS",
        "outputId": "a94fe3e5-134f-4f7f-f0bf-d83e936c2d14"
      },
      "execution_count": 27,
      "outputs": [
        {
          "output_type": "stream",
          "name": "stdout",
          "text": [
            "[' ', ' ', ' ', ' ', ' ']\n"
          ]
        }
      ]
    },
    {
      "cell_type": "code",
      "source": [
        "#Returns a match where the string DOES NOT contain a white space character\n",
        "txt=\"Overpowered nice energetic oversynchronised shot 16\"\n",
        "x=re.findall(\"\\S\",txt)\n",
        "print(x)"
      ],
      "metadata": {
        "colab": {
          "base_uri": "https://localhost:8080/"
        },
        "id": "F6Gpa5QM7bl0",
        "outputId": "33ad36cc-8b96-4307-a68c-302f63ec9288"
      },
      "execution_count": 28,
      "outputs": [
        {
          "output_type": "stream",
          "name": "stdout",
          "text": [
            "['O', 'v', 'e', 'r', 'p', 'o', 'w', 'e', 'r', 'e', 'd', 'n', 'i', 'c', 'e', 'e', 'n', 'e', 'r', 'g', 'e', 't', 'i', 'c', 'o', 'v', 'e', 'r', 's', 'y', 'n', 'c', 'h', 'r', 'o', 'n', 'i', 's', 'e', 'd', 's', 'h', 'o', 't', '1', '6']\n"
          ]
        }
      ]
    },
    {
      "cell_type": "code",
      "source": [
        "#Returns a match where the string contains any word characters (characters from a to Z, digits from 0-9, and the underscore _ character)\n",
        "txt=\"Overpowered nice energetic oversynchronised shot 16\"\n",
        "x=re.findall(\"\\w\",txt)\n",
        "print(x)"
      ],
      "metadata": {
        "colab": {
          "base_uri": "https://localhost:8080/"
        },
        "id": "IPwwa8Kp7ngQ",
        "outputId": "9b8f1b61-4584-46e9-8391-eabdb7fe9ff4"
      },
      "execution_count": 29,
      "outputs": [
        {
          "output_type": "stream",
          "name": "stdout",
          "text": [
            "['O', 'v', 'e', 'r', 'p', 'o', 'w', 'e', 'r', 'e', 'd', 'n', 'i', 'c', 'e', 'e', 'n', 'e', 'r', 'g', 'e', 't', 'i', 'c', 'o', 'v', 'e', 'r', 's', 'y', 'n', 'c', 'h', 'r', 'o', 'n', 'i', 's', 'e', 'd', 's', 'h', 'o', 't', '1', '6']\n"
          ]
        }
      ]
    },
    {
      "cell_type": "code",
      "source": [
        "#\tReturns a match where the string DOES NOT contain any word characters\n",
        "txt=\"Nice going fast but slow forever\"\n",
        "x=re.findall(\"\\W\",txt)\n",
        "print(x)"
      ],
      "metadata": {
        "colab": {
          "base_uri": "https://localhost:8080/"
        },
        "id": "lTS00j7U70rn",
        "outputId": "3ea092fd-c163-4135-9a8c-85de8c1c3618"
      },
      "execution_count": 30,
      "outputs": [
        {
          "output_type": "stream",
          "name": "stdout",
          "text": [
            "[' ', ' ', ' ', ' ', ' ']\n"
          ]
        }
      ]
    },
    {
      "cell_type": "code",
      "source": [
        "#\tReturns a match if the specified characters are at the end of the string\n",
        "txt=\"Overpowered nice energetic oversynchronised shot\"\n",
        "x=re.findall(\"nice\\Z\",txt)\n",
        "print(x)"
      ],
      "metadata": {
        "colab": {
          "base_uri": "https://localhost:8080/"
        },
        "id": "EA_a8Z_58EKw",
        "outputId": "7ecf72d8-ed17-493a-9ad0-70e3d271c43f"
      },
      "execution_count": 35,
      "outputs": [
        {
          "output_type": "stream",
          "name": "stdout",
          "text": [
            "[]\n"
          ]
        }
      ]
    }
  ]
}